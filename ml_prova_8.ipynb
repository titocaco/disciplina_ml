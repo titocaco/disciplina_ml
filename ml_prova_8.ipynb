{
 "cells": [
  {
   "cell_type": "code",
   "execution_count": 1,
   "metadata": {},
   "outputs": [],
   "source": [
    "import matplotlib.pyplot as plt\n",
    "import numpy as np\n",
    "import random\n",
    "import pandas as pd\n",
    "from os import listdir\n",
    "from sklearn.discriminant_analysis import LinearDiscriminantAnalysis, QuadraticDiscriminantAnalysis\n",
    "from mlxtend.evaluate import scoring"
   ]
  },
  {
   "cell_type": "code",
   "execution_count": 2,
   "metadata": {},
   "outputs": [],
   "source": [
    "def importar_dados(arquivo):\n",
    "    df = pd.read_csv(arquivo, sep=' ', names=['x1', 'x2', 'classe'])\n",
    "    \n",
    "    X = df[['x1', 'x2']].values\n",
    "    y = df['classe'].values\n",
    "    \n",
    "    return X, y"
   ]
  },
  {
   "cell_type": "code",
   "execution_count": 3,
   "metadata": {},
   "outputs": [],
   "source": [
    "def exibir_amostras(X, y, \n",
    "                    titulo=None, \n",
    "                    salvar=False, \n",
    "                    figsize=(10, 8), \n",
    "                    legend_fontsize=20, \n",
    "                    title_fontsize=24, \n",
    "                    labels_fontsize=24, \n",
    "                    ticks_fontsize=16):\n",
    "    \n",
    "    classes = list(set([classe for classe in y]))\n",
    "    n_classes = len(classes)\n",
    "    \n",
    "    plt.figure(figsize=figsize)\n",
    "    \n",
    "    for classe in classes:\n",
    "        plt.scatter(X[y == classe][:, 0], X[y == classe][:, 1], s=100, label='Classe ' + str(classe))\n",
    "    \n",
    "    plt.legend(fontsize=legend_fontsize)\n",
    "    plt.grid(True, linestyle='-', alpha=0.5)\n",
    "    \n",
    "    plt.title(str(titulo), fontsize=title_fontsize)\n",
    "    plt.xlabel(r'$x_{1}$', fontsize=labels_fontsize)\n",
    "    plt.ylabel(r'$x_{2}$', fontsize=labels_fontsize)\n",
    "    plt.xticks(fontsize=ticks_fontsize)\n",
    "    plt.yticks(fontsize=ticks_fontsize)\n",
    "    \n",
    "    if salvar:\n",
    "        plt.savefig(titulo + '.pdf', format='pdf', dpi=300, transparent=True, bbox_inches='tight')\n",
    "    \n",
    "#     plt.show()"
   ]
  },
  {
   "cell_type": "code",
   "execution_count": 4,
   "metadata": {},
   "outputs": [],
   "source": [
    "class AnaliseDiscriminante:\n",
    "    def __init__ (self, tipo='LDA'):\n",
    "        self.tipo = tipo\n",
    "        \n",
    "    def treinar (self, X, y):\n",
    "        self.classes = list(set(y))\n",
    "        self.n_classes = len(self.classes)\n",
    "        self.n_amostras = len(X)\n",
    "        self.n_amostras_classe = [len(X[y == c]) for c in self.classes]\n",
    "        self.probs = [n / self.n_amostras for n in self.n_amostras_classe]\n",
    "        self.mu = np.mean(X, axis=0)\n",
    "        self.mu_classe = [np.mean(X[y == c], axis=0) for c in self.classes]\n",
    "        \n",
    "        if self.tipo == 'LDA':\n",
    "            self.sigma = np.cov(X.T)\n",
    "            self.sigma_inv = np.linalg.inv(self.sigma)\n",
    "            \n",
    "        elif self.tipo == 'QDA':\n",
    "            self.sigma = np.array([np.cov(X[y == c].T) for c in self.classes])\n",
    "            self.sigma_inv = np.array([np.linalg.inv(matriz) for matriz in self.sigma])\n",
    "        \n",
    "        else:\n",
    "            print(\"O tipo deve ser 'LDA' ou 'QDA'. Escolha um dos dois!\")\n",
    "    \n",
    "    def __delta_LDA(self, X, mu, P):\n",
    "        return (np.matrix(X) * np.matrix(self.sigma_inv).T * np.matrix(mu).T - 0.5 * np.matrix(mu) * np.matrix(self.sigma_inv) * np.matrix(mu).T + np.log(P)).A1[0]\n",
    "    \n",
    "    def __delta_QDA(self, X, mu, sigma, sigma_inv, P):\n",
    "        return (-0.5 * np.log(np.linalg.det(sigma)) - 0.5 * np.matrix(X - mu) * np.matrix(sigma_inv).T * np.matrix(X - mu).T + np.log(P)).A1[0]\n",
    "        \n",
    "    def classificar (self, X):\n",
    "        if self.tipo == 'LDA':\n",
    "            self.deltas = np.array([[self.__delta_LDA(amostra, self.mu_classe[i], self.probs[i]) for i in range(len(self.classes))] for amostra in X])\n",
    "        \n",
    "        elif self.tipo == 'QDA':\n",
    "            self.deltas = np.array([[self.__delta_QDA(amostra, self.mu_classe[i], self.sigma[i], self.sigma_inv[i], self.probs[i]) for i in range(len(self.classes))] for amostra in X])\n",
    "        \n",
    "        else:\n",
    "            print(\"O tipo deve ser 'LDA' ou 'QDA'. Escolha um dos dois!\")\n",
    "        \n",
    "        return np.array([np.argmax(amostra)+1 for amostra in self.deltas])"
   ]
  },
  {
   "cell_type": "code",
   "execution_count": 8,
   "metadata": {},
   "outputs": [],
   "source": [
    "def holdout(X, y, n_amostras_treino, aleatorio=True, semente=None):\n",
    "    n_amostras = len(X)\n",
    "    n_amostras_teste = n_amostras - n_amostras_treino\n",
    "\n",
    "    if aleatorio:\n",
    "        if semente == None:\n",
    "            semente = random.randint(0, 1000)\n",
    "        random.seed(semente)\n",
    "        teste_idx = np.array(sorted(random.sample(range(n_amostras), n_amostras_teste)))\n",
    "\n",
    "    else:\n",
    "        teste_idx = np.arange(n_amostras - n_amostras_teste - 1, n_amostras)\n",
    "\n",
    "    treino_idx = np.array(list(set(np.arange(n_amostras)) - set(teste_idx)))\n",
    "    X_teste = np.array([X[idx] for idx in teste_idx])\n",
    "    y_teste = np.array([y[idx] for idx in teste_idx])\n",
    "    X_treino = np.array([X[idx] for idx in treino_idx])\n",
    "    y_treino = np.array([y[idx] for idx in treino_idx])\n",
    "    \n",
    "    return X_treino, y_treino, X_teste, y_teste"
   ]
  },
  {
   "cell_type": "code",
   "execution_count": 9,
   "metadata": {},
   "outputs": [],
   "source": [
    "def avaliar_desempenho(y_verdadeiro, y_obtido):\n",
    "    return scoring(y_verdadeiro, y_obtido, metric='accuracy', )"
   ]
  },
  {
   "cell_type": "markdown",
   "metadata": {},
   "source": [
    "### Dataset 2"
   ]
  },
  {
   "cell_type": "code",
   "execution_count": 10,
   "metadata": {},
   "outputs": [
    {
     "data": {
      "image/png": "[encoded data removed]",
      "text/plain": [
       "<Figure size 720x576 with 1 Axes>"
      ]
     },
     "metadata": {
      "needs_background": "light"
     },
     "output_type": "display_data"
    }
   ],
   "source": [
    "X2, y2 = importar_dados('datasets/dataset2.txt')\n",
    "exibir_amostras(X=X2, y=y2)"
   ]
  },
  {
   "cell_type": "code",
   "execution_count": 11,
   "metadata": {},
   "outputs": [],
   "source": [
    "# W1 = W2 = -0.5 * LDA.sigma_inv\n",
    "\n",
    "# w1 = np.matrix(LDA.sigma_inv) * np.matrix(LDA.mu_classe[0]).T\n",
    "# w2 = np.matrix(LDA.sigma_inv) * np.matrix(LDA.mu_classe[1]).T\n",
    "\n",
    "# w10 = -0.5 * np.matrix(LDA.mu_classe[0]) * np.matrix(LDA.sigma_inv) * np.matrix(LDA.mu_classe[0]).T - 0.5 * np.log(np.linalg.det(LDA.sigma)) + np.log(LDA.probs[0])\n",
    "# w20 = -0.5 * np.matrix(LDA.mu_classe[1]) * np.matrix(LDA.sigma_inv) * np.matrix(LDA.mu_classe[1]).T - 0.5 * np.log(np.linalg.det(LDA.sigma)) + np.log(LDA.probs[1])\n",
    "\n",
    "# g1 = "
   ]
  },
  {
   "cell_type": "code",
   "execution_count": null,
   "metadata": {},
   "outputs": [],
   "source": []
  },
  {
   "cell_type": "code",
   "execution_count": null,
   "metadata": {},
   "outputs": [],
   "source": []
  },
  {
   "cell_type": "code",
   "execution_count": 67,
   "metadata": {},
   "outputs": [],
   "source": []
  },
  {
   "cell_type": "markdown",
   "metadata": {},
   "source": [
    "### (a) utilizando 5 amostras para treinar"
   ]
  },
  {
   "cell_type": "code",
   "execution_count": 111,
   "metadata": {},
   "outputs": [
    {
     "name": "stdout",
     "output_type": "stream",
     "text": [
      "DATASET 2\n",
      "Acurácia: 0.6100\n"
     ]
    }
   ],
   "source": [
    "# Bootstrap\n",
    "n_repeticoes = 10\n",
    "n_amostras_treino = 5\n",
    "\n",
    "LDA_desempenho = []\n",
    "for execucao in range(n_repeticoes):\n",
    "    \n",
    "    # Holdout\n",
    "    X_treino, y_treino, X_teste, y_teste = holdout(X=X2, y=y2, n_amostras_treino=n_amostras_treino, aleatorio=True, semente=None)\n",
    "    \n",
    "    # LDA - Próprio\n",
    "    LDA = AnaliseDiscriminante(tipo='LDA')\n",
    "    LDA.treinar(X=X_treino, y=y_treino)\n",
    "    LDA_y_predito = LDA.classificar(X=X_teste)\n",
    "    LDA_desempenho.append(avaliar_desempenho(y_verdadeiro=y_teste, y_obtido=LDA_y_predito))\n",
    "\n",
    "LDA_desempenho = np.array(LDA_desempenho)\n",
    "LDA_desempenho_media = np.mean(LDA_desempenho)\n",
    "\n",
    "print('DATASET 2')\n",
    "print('Acurácia: {0:3.4f}'.format(LDA_desempenho_media))"
   ]
  },
  {
   "cell_type": "code",
   "execution_count": 112,
   "metadata": {},
   "outputs": [],
   "source": [
    "x_min, x_max = X2[:, 0].min() - 1, X2[:, 0].max() + 1\n",
    "y_min, y_max = X2[:, 1].min() - 1, X2[:, 1].max() + 1\n",
    "h = 0.01\n",
    "xx, yy = np.meshgrid(np.arange(x_min, x_max, h),\n",
    "                     np.arange(y_min, y_max, h))\n",
    "\n",
    "Z5 = LDA.classificar(np.c_[xx.ravel(), yy.ravel()])"
   ]
  },
  {
   "cell_type": "code",
   "execution_count": 113,
   "metadata": {},
   "outputs": [
    {
     "data": {
      "text/plain": [
       "<matplotlib.collections.PathCollection at 0x17e0a5743c8>"
      ]
     },
     "execution_count": 113,
     "metadata": {},
     "output_type": "execute_result"
    },
    {
     "data": {
      "image/png": "[encoded data removed]",
      "text/plain": [
       "<Figure size 432x288 with 1 Axes>"
      ]
     },
     "metadata": {
      "needs_background": "light"
     },
     "output_type": "display_data"
    }
   ],
   "source": [
    "Z5 = Z5.reshape(xx.shape)\n",
    "plt.contourf(xx, yy, Z5, cmap='Paired', alpha=0.4)\n",
    "plt.axis('off')\n",
    "\n",
    "# Plot also the training points\n",
    "plt.scatter(X2[y2==1][:, 0], X2[y2==1][:, 1], cmap='Paired')\n",
    "plt.scatter(X2[y2==2][:, 0], X2[y2==2][:, 1], cmap='Paired')"
   ]
  },
  {
   "cell_type": "markdown",
   "metadata": {},
   "source": [
    "### (b) utilizando 20 amostras para treinar"
   ]
  },
  {
   "cell_type": "code",
   "execution_count": 120,
   "metadata": {},
   "outputs": [
    {
     "name": "stdout",
     "output_type": "stream",
     "text": [
      "DATASET 2\n",
      "Acurácia: 0.8000\n"
     ]
    }
   ],
   "source": [
    "# Bootstrap\n",
    "n_repeticoes = 10\n",
    "n_amostras_treino = 20\n",
    "\n",
    "LDA_desempenho = []\n",
    "for execucao in range(n_repeticoes):\n",
    "    \n",
    "    # Holdout\n",
    "    X_treino, y_treino, X_teste, y_teste = holdout(X=X2, y=y2, n_amostras_treino=n_amostras_treino, aleatorio=True, semente=None)\n",
    "    \n",
    "    # LDA - Próprio\n",
    "    LDA = AnaliseDiscriminante(tipo='LDA')\n",
    "    LDA.treinar(X=X_treino, y=y_treino)\n",
    "    LDA_y_predito = LDA.classificar(X=X_teste)\n",
    "    LDA_desempenho.append(avaliar_desempenho(y_verdadeiro=y_teste, y_obtido=LDA_y_predito))\n",
    "\n",
    "LDA_desempenho = np.array(LDA_desempenho)\n",
    "LDA_desempenho_media = np.mean(LDA_desempenho)\n",
    "\n",
    "print('DATASET 2')\n",
    "print('Acurácia: {0:3.4f}'.format(LDA_desempenho_media))"
   ]
  },
  {
   "cell_type": "code",
   "execution_count": 121,
   "metadata": {},
   "outputs": [],
   "source": [
    "x_min, x_max = X2[:, 0].min() - 1, X2[:, 0].max() + 1\n",
    "y_min, y_max = X2[:, 1].min() - 1, X2[:, 1].max() + 1\n",
    "h = 0.01\n",
    "xx, yy = np.meshgrid(np.arange(x_min, x_max, h),\n",
    "                     np.arange(y_min, y_max, h))\n",
    "\n",
    "Z20 = LDA.classificar(np.c_[xx.ravel(), yy.ravel()])"
   ]
  },
  {
   "cell_type": "code",
   "execution_count": 122,
   "metadata": {},
   "outputs": [
    {
     "data": {
      "text/plain": [
       "<matplotlib.collections.PathCollection at 0x17e03cab808>"
      ]
     },
     "execution_count": 122,
     "metadata": {},
     "output_type": "execute_result"
    },
    {
     "data": {
      "image/png": "[encoded data removed]",
      "text/plain": [
       "<Figure size 432x288 with 1 Axes>"
      ]
     },
     "metadata": {
      "needs_background": "light"
     },
     "output_type": "display_data"
    }
   ],
   "source": [
    "Z20 = Z20.reshape(xx.shape)\n",
    "plt.contourf(xx, yy, Z20, cmap='Paired', alpha=0.4)\n",
    "plt.axis('off')\n",
    "\n",
    "# Plot also the training points\n",
    "plt.scatter(X2[y2==1][:, 0], X2[y2==1][:, 1], cmap='Paired')\n",
    "plt.scatter(X2[y2==2][:, 0], X2[y2==2][:, 1], cmap='Paired')"
   ]
  },
  {
   "cell_type": "markdown",
   "metadata": {},
   "source": [
    "### Sobrepondo ambos os casos"
   ]
  },
  {
   "cell_type": "code",
   "execution_count": 200,
   "metadata": {},
   "outputs": [
    {
     "data": {
      "image/png": "[encoded data removed]",
      "text/plain": [
       "<Figure size 720x576 with 1 Axes>"
      ]
     },
     "metadata": {
      "needs_background": "light"
     },
     "output_type": "display_data"
    }
   ],
   "source": [
    "classes = list(set([classe for classe in y2]))\n",
    "n_classes = len(classes)\n",
    "\n",
    "plt.figure(figsize=(10, 8))\n",
    "\n",
    "Z5 = Z5.reshape(xx.shape)\n",
    "plt.contourf(xx, yy, Z5, cmap='Greys', alpha=0.5)\n",
    "\n",
    "plt.annotate('Limiar para\\n 5 amostras', \n",
    "             xy=(0.1, 2), \n",
    "             xytext=(1, 1), \n",
    "             arrowprops=dict(facecolor='black', \n",
    "                             shrink=0.05, \n",
    "                             width=1.5, \n",
    "                             edgecolor='black'), \n",
    "             color='black', \n",
    "             fontsize=18)\n",
    "\n",
    "Z20 = Z20.reshape(xx.shape)\n",
    "plt.contourf(xx, yy, Z20, cmap='Blues', alpha=0.5)\n",
    "\n",
    "plt.annotate('Limiar para\\n 20 amostras', \n",
    "             xy=(-0.85, -2), \n",
    "             xytext=(0, -1.65), \n",
    "             arrowprops=dict(facecolor='black', \n",
    "                             shrink=0.05, \n",
    "                             width=1.5, \n",
    "                             edgecolor='black'), \n",
    "             color='black', \n",
    "             fontsize=18)\n",
    "\n",
    "for classe in classes:\n",
    "    plt.scatter(X2[y2 == classe][:, 0], X2[y2 == classe][:, 1], edgecolors='black', s=100, label='Classe ' + str(classe))\n",
    "\n",
    "plt.legend(fontsize=20)\n",
    "plt.grid(True, linestyle='-', alpha=0.5)\n",
    "\n",
    "plt.xlabel(r'$x_{1}$', fontsize=24)\n",
    "plt.ylabel(r'$x_{2}$', fontsize=24)\n",
    "plt.xticks(fontsize=16)\n",
    "plt.yticks(fontsize=16)\n",
    "\n",
    "plt.savefig('prova_8_limiar.pdf', format='pdf', dpi=300, transparent=True, bbox_inches='tight')\n",
    "\n",
    "plt.show()"
   ]
  },
  {
   "cell_type": "code",
   "execution_count": null,
   "metadata": {},
   "outputs": [],
   "source": []
  }
 ],
 "metadata": {
  "kernelspec": {
   "display_name": "Python 3",
   "language": "python",
   "name": "python3"
  },
  "language_info": {
   "codemirror_mode": {
    "name": "ipython",
    "version": 3
   },
   "file_extension": ".py",
   "mimetype": "text/x-python",
   "name": "python",
   "nbconvert_exporter": "python",
   "pygments_lexer": "ipython3",
   "version": "3.7.6"
  }
 },
 "nbformat": 4,
 "nbformat_minor": 4
}
